{
 "cells": [
  {
   "cell_type": "markdown",
   "id": "organic-installation",
   "metadata": {},
   "source": [
    "# Playing with Boxes\n",
    "\n",
    "In this notebook, we will perform the following tasks in **pytorch as well as tensorflow**:\n",
    "1. Create a tensor representation of a box\n",
    "2. Represent specific boxes using your tensor representation\n",
    "3. Create a function which calculates the intersection of two boxes\n",
    "3. Create a differentiable function to compute \"soft\" volumes of boxes\n",
    "4. Train one box to contain another\n",
    "\n",
    "\n",
    "This notebook is intended to be self-contained, but you may find it beneficial to consult Section 3.1 to 3.4 in [Representing Joint Hierarchies with Box Embeddings](https://openreview.net/pdf?id=J246NSqR_l)."
   ]
  },
  {
   "cell_type": "markdown",
   "id": "signed-saturn",
   "metadata": {
    "pycharm": {
     "name": "#%% md\n"
    }
   },
   "source": [
    "## 1. Create a box parameterization\n",
    "\n",
    "A \"box\" is a product of intervals in $\\mathbb R^n$, i.e.\n",
    "\n",
    "$$X = \\prod_{i=1}^d [x_{m,i}, x_{M,i}], \\quad \\text{where} \\quad x_{M,i} \\ge x_{m,i} \\quad \\text{ for all } \\quad i.$$\n",
    "\n",
    "However you would like, create a way of storing parameters which represent a box. Crucially, your parameterization should conform to the requirement above, namely any setting of your parameterization should represent a box that has positive side-lengths in each dimension, and you should be able to represent any box in $\\mathbb R^n$. Furthermore, you should be able to return the min and max coordinates (i.e. the $x_{m,i}, x_{M, i}$ above) for your box. \n",
    "\n",
    "**Hint**: It might be benificial to create a \"wrapper\" class that holds the tensor(s) corresponding to the parameters of the box."
   ]
  },
  {
   "cell_type": "code",
   "execution_count": 1,
   "id": "subsequent-graphics",
   "metadata": {},
   "outputs": [],
   "source": [
    "# Box parameterization\n",
    "import numpy as np\n",
    "import torch\n",
    "\n",
    "class Box():\n",
    "    def __init__(self, min_coords, max_coords, dtype=torch.float, requires_grad=False):\n",
    "        if len(min_coords) != len(max_coords):\n",
    "            raise ValueError(\"Dimensions do not match\")\n",
    "        minT = torch.tensor(min_coords, dtype=dtype, requires_grad=requires_grad)\n",
    "        maxT = torch.tensor(max_coords, dtype=dtype, requires_grad=requires_grad)\n",
    "        if not (minT <= maxT).all():\n",
    "            raise ValueError(\"Maximum coordinates must be greater than minimum coordinates\")\n",
    "        \n",
    "        self.n_dim = len(min_coords)\n",
    "        self.min_coords = minT\n",
    "        self.max_coords = maxT\n",
    "        \n",
    "    @classmethod\n",
    "    def from_side_and_center(cls, side_length, center_coords, dtype=torch.float, requires_grad=False):\n",
    "        if isinstance(side_length, int):\n",
    "            side_length = [side_length] * len(center_coords)\n",
    "        elif len(side_length) != len(center_coords):\n",
    "            raise ValueError(\"Dimensions do not match\")\n",
    "        \n",
    "        side_length = np.array(side_length)\n",
    "        min_coords = center_coords - side_length/2\n",
    "        max_coords = center_coords + side_length/2\n",
    "        return cls(min_coords, max_coords, dtype)"
   ]
  },
  {
   "cell_type": "markdown",
   "id": "improving-billy",
   "metadata": {
    "pycharm": {
     "name": "#%% md\n"
    }
   },
   "source": [
    "## 2. Represent Specific Boxes\n",
    "Using your chosen parameterization, represent a box `x` in $\\mathbb R^{100}$ which has side-lengths $2$ centered at $(-1,\\ldots, -1)$. \n",
    "Create another box `y` with min-coordinate $(1, \\frac 1 2, \\frac 1 3, \\ldots, \\frac 1 {100})$, and max-coordinate $(3 - \\frac 1 {100}, 3 - \\frac 1 {99}, \\ldots, 2)$.\n"
   ]
  },
  {
   "cell_type": "code",
   "execution_count": 2,
   "id": "academic-paraguay",
   "metadata": {
    "pycharm": {
     "name": "#%%\n"
    }
   },
   "outputs": [],
   "source": [
    "# Represent a specific box\n",
    "x_side = 2\n",
    "x_center = [-1]*100\n",
    "x = Box.from_side_and_center(x_side, x_center)\n",
    "\n",
    "y_min = [1/n for n in range(1, 101)]\n",
    "y_max = [3 - k for k in reversed(y_min)]\n",
    "y = Box(y_min, y_max, requires_grad=True)"
   ]
  },
  {
   "cell_type": "markdown",
   "id": "norman-hormone",
   "metadata": {
    "pycharm": {
     "name": "#%% md\n"
    }
   },
   "source": [
    "# 3. Create an Intersection Function\n",
    "\n",
    "The box intersection operation takes two boxes as input and returns their intersection. In one-dimension, this is as follows:\n",
    "\n",
    "$$\\text{Int}([x_m, x_M], [y_m, y_M]) = (\\max(x_m, y_m), \\min(x_M, y_M)).$$\n",
    "\n",
    "Generalize this to $n$-dimensions, and write an intersection function which operates on your box parameterization.\n",
    "\n",
    "Take the intersection of the two boxes `x` and `y` you created in step 2, and display the min and max coordinates of the intersection."
   ]
  },
  {
   "cell_type": "code",
   "execution_count": 3,
   "id": "interracial-brain",
   "metadata": {
    "pycharm": {
     "name": "#%%\n"
    }
   },
   "outputs": [
    {
     "data": {
      "text/plain": [
       "(array([1.        , 0.5       , 0.33333334, 0.25      , 0.2       ,\n",
       "        0.16666667, 0.14285715, 0.125     , 0.11111111, 0.1       ,\n",
       "        0.09090909, 0.08333334, 0.07692308, 0.07142857, 0.06666667,\n",
       "        0.0625    , 0.05882353, 0.05555556, 0.05263158, 0.05      ,\n",
       "        0.04761905, 0.04545455, 0.04347826, 0.04166667, 0.04      ,\n",
       "        0.03846154, 0.03703704, 0.03571429, 0.03448276, 0.03333334,\n",
       "        0.03225806, 0.03125   , 0.03030303, 0.02941176, 0.02857143,\n",
       "        0.02777778, 0.02702703, 0.02631579, 0.02564103, 0.025     ,\n",
       "        0.02439024, 0.02380952, 0.02325581, 0.02272727, 0.02222222,\n",
       "        0.02173913, 0.0212766 , 0.02083333, 0.02040816, 0.02      ,\n",
       "        0.01960784, 0.01923077, 0.01886792, 0.01851852, 0.01818182,\n",
       "        0.01785714, 0.01754386, 0.01724138, 0.01694915, 0.01666667,\n",
       "        0.01639344, 0.01612903, 0.01587302, 0.015625  , 0.01538462,\n",
       "        0.01515152, 0.01492537, 0.01470588, 0.01449275, 0.01428571,\n",
       "        0.01408451, 0.01388889, 0.01369863, 0.01351351, 0.01333333,\n",
       "        0.01315789, 0.01298701, 0.01282051, 0.01265823, 0.0125    ,\n",
       "        0.01234568, 0.01219512, 0.01204819, 0.01190476, 0.01176471,\n",
       "        0.01162791, 0.01149425, 0.01136364, 0.01123596, 0.01111111,\n",
       "        0.01098901, 0.01086957, 0.01075269, 0.0106383 , 0.01052632,\n",
       "        0.01041667, 0.01030928, 0.01020408, 0.01010101, 0.01      ],\n",
       "       dtype=float32),\n",
       " array([0., 0., 0., 0., 0., 0., 0., 0., 0., 0., 0., 0., 0., 0., 0., 0., 0.,\n",
       "        0., 0., 0., 0., 0., 0., 0., 0., 0., 0., 0., 0., 0., 0., 0., 0., 0.,\n",
       "        0., 0., 0., 0., 0., 0., 0., 0., 0., 0., 0., 0., 0., 0., 0., 0., 0.,\n",
       "        0., 0., 0., 0., 0., 0., 0., 0., 0., 0., 0., 0., 0., 0., 0., 0., 0.,\n",
       "        0., 0., 0., 0., 0., 0., 0., 0., 0., 0., 0., 0., 0., 0., 0., 0., 0.,\n",
       "        0., 0., 0., 0., 0., 0., 0., 0., 0., 0., 0., 0., 0., 0., 0.],\n",
       "       dtype=float32))"
      ]
     },
     "execution_count": 3,
     "metadata": {},
     "output_type": "execute_result"
    }
   ],
   "source": [
    "# Intersection Function\n",
    "def box_intersection(boxA, boxB):\n",
    "    intersection_min = torch.max(boxA.min_coords, boxB.min_coords).detach().numpy()\n",
    "    intersection_max = torch.min(boxA.max_coords, boxB.max_coords).detach().numpy()\n",
    "    return (intersection_min, intersection_max)\n",
    "    \n",
    "box_intersection(x, y)"
   ]
  },
  {
   "cell_type": "markdown",
   "id": "stainless-classic",
   "metadata": {},
   "source": [
    "## 4. Create a \"Soft\" Volume Function\n",
    "The \"softplus volume\" of a box is defined as\n",
    "\n",
    "$$\\text{SoftVol}[X] = \\prod_{i=1}^d \\log(1 + \\exp(x_{M,i} - x_{m,i})).$$\n",
    "\n",
    "Create this volume function, and attempt to use it to determine which of the boxes `x` and `y` from part (2) are larger. What issues do you encounter? Can you mitigate these issues?"
   ]
  },
  {
   "cell_type": "markdown",
   "id": "modular-tracker",
   "metadata": {},
   "source": [
    "It's better to use logarithmic scale since product over dimensions might lead to numerical instability."
   ]
  },
  {
   "cell_type": "code",
   "execution_count": 4,
   "id": "authorized-process",
   "metadata": {
    "pycharm": {
     "name": "#%%\n"
    }
   },
   "outputs": [
    {
     "name": "stdout",
     "output_type": "stream",
     "text": [
      "75.46786499023438\n",
      "108.06694793701172\n",
      "Box Y has larger volume than Box X\n"
     ]
    }
   ],
   "source": [
    "# Soft Volume Function\n",
    "def soft_volume(max_coords, min_coords):\n",
    "    lse = torch.log(1 + torch.exp(max_coords - min_coords))\n",
    "    return torch.sum(torch.log(lse))\n",
    "\n",
    "volX = soft_volume(x.max_coords, x.min_coords)\n",
    "volY = soft_volume(y.max_coords, y.min_coords)\n",
    "print(volX.item())\n",
    "print(volY.item())\n",
    "if volX > volY:\n",
    "    print(\"Box X has larger volume than Box Y\")\n",
    "elif volX == volY:\n",
    "    print(\"Both boxes, X and Y, has the same volume\")\n",
    "else:\n",
    "    print(\"Box Y has larger volume than Box X\")"
   ]
  },
  {
   "cell_type": "markdown",
   "id": "tamil-notebook",
   "metadata": {
    "pycharm": {
     "name": "#%% md\n"
    }
   },
   "source": [
    "## 5. Training Boxes\n",
    "We say box $X$ contains box $Y$ if, for each dimension $i$, we have\n",
    "$$x_{m,i} < y_{m,i} < y_{M,i} < x_{M,i}.$$\n",
    "\n",
    "Freezing the coordinates of box `x` from earlier, use gradient-descent to train box `y` such that it is contained in `x`.\n",
    "\n",
    "**Hint:** Visualize typical boxes in 2-dimensions, and note that if a box $Y$ were contained in $X$ then $\\text{Vol}(\\text{Int}(X, Y)) = \\text{Vol}(Y)$.\n",
    "\n",
    "**Hint:** You can use/invent any loss function as long as it has a local minima that corresponds to satisfying the inequality given above."
   ]
  },
  {
   "cell_type": "code",
   "execution_count": 5,
   "id": "bibliographic-ordinary",
   "metadata": {
    "pycharm": {
     "name": "#%%\n"
    }
   },
   "outputs": [
    {
     "name": "stdout",
     "output_type": "stream",
     "text": [
      "0 2948.12646484375\n",
      "50 2698.12060546875\n",
      "100 2448.114990234375\n",
      "150 2198.109130859375\n",
      "200 1948.104736328125\n",
      "250 1698.104736328125\n",
      "300 1448.1051025390625\n",
      "350 1198.1053466796875\n",
      "400 948.2056884765625\n",
      "450 701.906005859375\n",
      "500 455.7585754394531\n",
      "550 214.6334228515625\n",
      "600 19.79534149169922\n",
      "650 5.2833452224731445\n",
      "700 2.450007200241089\n",
      "750 1.2000083923339844\n",
      "800 0.0\n",
      "850 0.0\n",
      "900 0.0\n",
      "950 0.0\n"
     ]
    }
   ],
   "source": [
    "# Training boxes\n",
    "alpha = 10\n",
    "beta = 10\n",
    "\n",
    "max_c = y.max_coords.detach().clone().requires_grad_(True)\n",
    "min_c = y.min_coords.detach().clone().requires_grad_(True)\n",
    "\n",
    "max_c\n",
    "learning_rate = 5e-4\n",
    "for t in range(1000):\n",
    "    loss = torch.sum(alpha*torch.max(x.min_coords - min_c, torch.tensor(0, dtype=torch.float))) + \\\n",
    "            torch.sum(alpha*torch.max(max_c - x.max_coords, torch.tensor(0, dtype=torch.float))) + \\\n",
    "            torch.sum(beta*torch.max(min_c - max_c, torch.tensor(0, dtype=torch.float)))\n",
    "    if t%50 == 0:\n",
    "        print(t, loss.item())\n",
    "    loss.backward()\n",
    "    with torch.no_grad():\n",
    "        max_c -= learning_rate * max_c.grad\n",
    "        min_c -= learning_rate * min_c.grad\n",
    "\n",
    "        max_c.grad = None\n",
    "        min_c.grad = None"
   ]
  },
  {
   "cell_type": "code",
   "execution_count": 6,
   "id": "different-clone",
   "metadata": {},
   "outputs": [],
   "source": [
    "y_ = Box(min_c.detach().numpy(), max_c.detach().numpy())"
   ]
  },
  {
   "cell_type": "code",
   "execution_count": 7,
   "id": "southwest-wheel",
   "metadata": {},
   "outputs": [],
   "source": [
    "box_ins = box_intersection(x, y_)"
   ]
  },
  {
   "cell_type": "code",
   "execution_count": 8,
   "id": "tropical-friday",
   "metadata": {},
   "outputs": [],
   "source": [
    "assert (box_ins[0] == y_.min_coords.detach().numpy()).all()\n",
    "assert (box_ins[1] == y_.max_coords.detach().numpy()).all()"
   ]
  },
  {
   "cell_type": "code",
   "execution_count": null,
   "id": "original-times",
   "metadata": {},
   "outputs": [],
   "source": []
  }
 ],
 "metadata": {
  "kernelspec": {
   "display_name": "Python 3",
   "language": "python",
   "name": "python3"
  },
  "language_info": {
   "codemirror_mode": {
    "name": "ipython",
    "version": 3
   },
   "file_extension": ".py",
   "mimetype": "text/x-python",
   "name": "python",
   "nbconvert_exporter": "python",
   "pygments_lexer": "ipython3",
   "version": "3.7.9"
  }
 },
 "nbformat": 4,
 "nbformat_minor": 5
}
