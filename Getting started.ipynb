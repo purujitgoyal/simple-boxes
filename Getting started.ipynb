{
 "cells": [
  {
   "cell_type": "markdown",
   "metadata": {},
   "source": [
    "# Playing with Boxes\n",
    "\n",
    "In this notebook, we will perform the following tasks in **pytorch as well as tensorflow**:\n",
    "1. Create a tensor representation of a box\n",
    "2. Represent specific boxes using your tensor representation\n",
    "3. Create a function which calculates the intersection of two boxes\n",
    "3. Create a differentiable function to compute \"soft\" volumes of boxes\n",
    "4. Train one box to contain another\n",
    "\n",
    "\n",
    "This notebook is intended to be self-contained, but you may find it beneficial to consult Section 3.1 to 3.4 in [Representing Joint Hierarchies with Box Embeddings](https://openreview.net/pdf?id=J246NSqR_l)."
   ]
  },
  {
   "cell_type": "markdown",
   "metadata": {
    "pycharm": {
     "name": "#%% md\n"
    }
   },
   "source": [
    "## 1. Create a box parameterization\n",
    "\n",
    "A \"box\" is a product of intervals in $\\mathbb R^n$, i.e.\n",
    "\n",
    "$$X = \\prod_{i=1}^d [x_{m,i}, x_{M,i}], \\quad \\text{where} \\quad x_{M,i} \\ge x_{m,i} \\quad \\text{ for all } \\quad i.$$\n",
    "\n",
    "However you would like, create a way of storing parameters which represent a box. Crucially, your parameterization should conform to the requirement above, namely any setting of your parameterization should represent a box that has positive side-lengths in each dimension, and you should be able to represent any box in $\\mathbb R^n$. Furthermore, you should be able to return the min and max coordinates (i.e. the $x_{m,i}, x_{M, i}$ above) for your box. \n",
    "\n",
    "**Hint**: It might be benificial to create a \"wrapper\" class that holds the tensor(s) corresponding to the parameters of the box."
   ]
  },
  {
   "cell_type": "code",
   "execution_count": 1,
   "metadata": {},
   "outputs": [],
   "source": [
    "# Box parameterization\n",
    "import numpy as np\n",
    "import torch\n",
    "\n",
    "class Box():\n",
    "    def __init__(self, min_coords, max_coords, dtype=torch.float, requires_grad=False):\n",
    "        if len(min_coords) != len(max_coords):\n",
    "            raise ValueError(\"Dimensions do not match\")\n",
    "        minT = torch.tensor(min_coords, dtype=dtype, requires_grad=requires_grad)\n",
    "        maxT = torch.tensor(max_coords, dtype=dtype, requires_grad=requires_grad)\n",
    "        if not (minT <= maxT).all():\n",
    "            raise ValueError(\"Maximum coordinates must be greater than minimum coordinates\")\n",
    "        \n",
    "        self.n_dim = len(min_coords)\n",
    "        self.min_coords = minT\n",
    "        self.max_coords = maxT\n",
    "        \n",
    "    @classmethod\n",
    "    def from_side_and_center(cls, side_length, center_coords, dtype=torch.float, requires_grad=False):\n",
    "        if isinstance(side_length, int):\n",
    "            side_length = [side_length] * len(center_coords)\n",
    "        elif len(side_length) != len(center_coords):\n",
    "            raise ValueError(\"Dimensions do not match\")\n",
    "        \n",
    "        side_length = np.array(side_length)\n",
    "        min_coords = center_coords - side_length/2\n",
    "        max_coords = center_coords + side_length/2\n",
    "        return cls(min_coords, max_coords, dtype)"
   ]
  },
  {
   "cell_type": "markdown",
   "metadata": {
    "pycharm": {
     "name": "#%% md\n"
    }
   },
   "source": [
    "## 2. Represent Specific Boxes\n",
    "Using your chosen parameterization, represent a box `x` in $\\mathbb R^{100}$ which has side-lengths $2$ centered at $(-1,\\ldots, -1)$. \n",
    "Create another box `y` with min-coordinate $(1, \\frac 1 2, \\frac 1 3, \\ldots, \\frac 1 {100})$, and max-coordinate $(3 - \\frac 1 {100}, 3 - \\frac 1 {99}, \\ldots, 2)$.\n"
   ]
  },
  {
   "cell_type": "code",
   "execution_count": 2,
   "metadata": {
    "pycharm": {
     "name": "#%%\n"
    }
   },
   "outputs": [],
   "source": [
    "# Represent a specific box\n",
    "x_side = 2\n",
    "x_center = [-1]*100\n",
    "x = Box.from_side_and_center(x_side, x_center)\n",
    "\n",
    "y_min = [1/n for n in range(1, 101)]\n",
    "y_max = [3 - k for k in reversed(y_min)]\n",
    "y = Box(y_min, y_max, requires_grad=True)"
   ]
  },
  {
   "cell_type": "markdown",
   "metadata": {
    "pycharm": {
     "name": "#%% md\n"
    }
   },
   "source": [
    "# 3. Create an Intersection Function\n",
    "\n",
    "The box intersection operation takes two boxes as input and returns their intersection. In one-dimension, this is as follows:\n",
    "\n",
    "$$\\text{Int}([x_m, x_M], [y_m, y_M]) = (\\max(x_m, y_m), \\min(x_M, y_M)).$$\n",
    "\n",
    "Generalize this to $n$-dimensions, and write an intersection function which operates on your box parameterization.\n",
    "\n",
    "Take the intersection of the two boxes `x` and `y` you created in step 2, and display the min and max coordinates of the intersection."
   ]
  },
  {
   "cell_type": "code",
   "execution_count": 3,
   "metadata": {
    "pycharm": {
     "name": "#%%\n"
    }
   },
   "outputs": [
    {
     "data": {
      "text/plain": [
       "(tensor([1.0000, 0.5000, 0.3333, 0.2500, 0.2000, 0.1667, 0.1429, 0.1250, 0.1111,\n",
       "         0.1000, 0.0909, 0.0833, 0.0769, 0.0714, 0.0667, 0.0625, 0.0588, 0.0556,\n",
       "         0.0526, 0.0500, 0.0476, 0.0455, 0.0435, 0.0417, 0.0400, 0.0385, 0.0370,\n",
       "         0.0357, 0.0345, 0.0333, 0.0323, 0.0312, 0.0303, 0.0294, 0.0286, 0.0278,\n",
       "         0.0270, 0.0263, 0.0256, 0.0250, 0.0244, 0.0238, 0.0233, 0.0227, 0.0222,\n",
       "         0.0217, 0.0213, 0.0208, 0.0204, 0.0200, 0.0196, 0.0192, 0.0189, 0.0185,\n",
       "         0.0182, 0.0179, 0.0175, 0.0172, 0.0169, 0.0167, 0.0164, 0.0161, 0.0159,\n",
       "         0.0156, 0.0154, 0.0152, 0.0149, 0.0147, 0.0145, 0.0143, 0.0141, 0.0139,\n",
       "         0.0137, 0.0135, 0.0133, 0.0132, 0.0130, 0.0128, 0.0127, 0.0125, 0.0123,\n",
       "         0.0122, 0.0120, 0.0119, 0.0118, 0.0116, 0.0115, 0.0114, 0.0112, 0.0111,\n",
       "         0.0110, 0.0109, 0.0108, 0.0106, 0.0105, 0.0104, 0.0103, 0.0102, 0.0101,\n",
       "         0.0100], grad_fn=<MaxBackward2>),\n",
       " tensor([0., 0., 0., 0., 0., 0., 0., 0., 0., 0., 0., 0., 0., 0., 0., 0., 0., 0., 0., 0., 0., 0., 0., 0.,\n",
       "         0., 0., 0., 0., 0., 0., 0., 0., 0., 0., 0., 0., 0., 0., 0., 0., 0., 0., 0., 0., 0., 0., 0., 0.,\n",
       "         0., 0., 0., 0., 0., 0., 0., 0., 0., 0., 0., 0., 0., 0., 0., 0., 0., 0., 0., 0., 0., 0., 0., 0.,\n",
       "         0., 0., 0., 0., 0., 0., 0., 0., 0., 0., 0., 0., 0., 0., 0., 0., 0., 0., 0., 0., 0., 0., 0., 0.,\n",
       "         0., 0., 0., 0.], grad_fn=<MinBackward2>))"
      ]
     },
     "execution_count": 3,
     "metadata": {},
     "output_type": "execute_result"
    }
   ],
   "source": [
    "# Intersection Function\n",
    "def box_intersection(boxA, boxB):\n",
    "    intersection_min = torch.max(boxA.min_coords, boxB.min_coords)\n",
    "    intersection_max = torch.min(boxA.max_coords, boxB.max_coords)\n",
    "    return (intersection_min, intersection_max)\n",
    "    \n",
    "box_intersection(x, y)"
   ]
  },
  {
   "cell_type": "markdown",
   "metadata": {},
   "source": [
    "## 4. Create a \"Soft\" Volume Function\n",
    "The \"softplus volume\" of a box is defined as\n",
    "\n",
    "$$\\text{SoftVol}[X] = \\prod_{i=1}^d \\log(1 + \\exp(x_{M,i} - x_{m,i})).$$\n",
    "\n",
    "Create this volume function, and attempt to use it to determine which of the boxes `x` and `y` from part (2) are larger. What issues do you encounter? Can you mitigate these issues?"
   ]
  },
  {
   "cell_type": "code",
   "execution_count": 4,
   "metadata": {
    "pycharm": {
     "name": "#%%\n"
    }
   },
   "outputs": [
    {
     "name": "stdout",
     "output_type": "stream",
     "text": [
      "75.46786499023438\n",
      "108.06694793701172\n",
      "Box Y has larger volume than Box X\n"
     ]
    }
   ],
   "source": [
    "# Soft Volume Function\n",
    "def soft_volume(max_coords, min_coords):\n",
    "    lse = torch.log(1 + torch.exp(max_coords - min_coords))\n",
    "    return torch.sum(torch.log(lse))\n",
    "\n",
    "volX = soft_volume(x.max_coords, x.min_coords)\n",
    "volY = soft_volume(y.max_coords, y.min_coords)\n",
    "print(volX.item())\n",
    "print(volY.item())\n",
    "if volX > volY:\n",
    "    print(\"Box X has larger volume than Box Y\")\n",
    "elif volX == volY:\n",
    "    print(\"Both boxes, X and Y, has the same volume\")\n",
    "else:\n",
    "    print(\"Box Y has larger volume than Box X\")"
   ]
  },
  {
   "cell_type": "markdown",
   "metadata": {
    "pycharm": {
     "name": "#%% md\n"
    }
   },
   "source": [
    "## 5. Training Boxes\n",
    "We say box $X$ contains box $Y$ if, for each dimension $i$, we have\n",
    "$$x_{m,i} < y_{m,i} < y_{M,i} < x_{M,i}.$$\n",
    "\n",
    "Freezing the coordinates of box `x` from earlier, use gradient-descent to train box `y` such that it is contained in `x`.\n",
    "\n",
    "**Hint:** Visualize typical boxes in 2-dimensions, and note that if a box $Y$ were contained in $X$ then $\\text{Vol}(\\text{Int}(X, Y)) = \\text{Vol}(Y)$.\n",
    "\n",
    "**Hint:** You can use/invent any loss function as long as it has a local minima that corresponds to satisfying the inequality given above."
   ]
  },
  {
   "cell_type": "code",
   "execution_count": 6,
   "metadata": {
    "pycharm": {
     "name": "#%%\n"
    }
   },
   "outputs": [
    {
     "name": "stdout",
     "output_type": "stream",
     "text": [
      "0 2948.12646484375\n",
      "50 2698.12060546875\n",
      "100 2448.114990234375\n",
      "150 2198.109130859375\n",
      "200 1948.104736328125\n",
      "250 1698.104736328125\n",
      "300 1448.1051025390625\n",
      "350 1198.1053466796875\n",
      "400 948.2056884765625\n",
      "450 701.906005859375\n",
      "500 455.7585754394531\n",
      "550 214.6334228515625\n",
      "600 19.79534149169922\n",
      "650 5.2833452224731445\n",
      "700 2.450007200241089\n",
      "750 1.2000083923339844\n",
      "800 0.0\n",
      "850 0.0\n",
      "900 0.0\n",
      "950 0.0\n"
     ]
    }
   ],
   "source": [
    "# Training boxes\n",
    "alpha = 10\n",
    "beta = 10\n",
    "\n",
    "max_c = y.max_coords.detach().clone().requires_grad_(True)\n",
    "min_c = y.min_coords.detach().clone().requires_grad_(True)\n",
    "\n",
    "max_c\n",
    "learning_rate = 5e-4\n",
    "for t in range(1000):\n",
    "    loss = torch.sum(alpha*torch.max(x.min_coords - min_c, torch.tensor(0, dtype=torch.float))) + \\\n",
    "            torch.sum(alpha*torch.max(max_c - x.max_coords, torch.tensor(0, dtype=torch.float))) + \\\n",
    "            torch.sum(beta*torch.max(min_c - max_c, torch.tensor(0, dtype=torch.float)))\n",
    "    if t%50 == 0:\n",
    "        print(t, loss.item())\n",
    "    loss.backward()\n",
    "    with torch.no_grad():\n",
    "        max_c -= learning_rate * max_c.grad\n",
    "        min_c -= learning_rate * min_c.grad\n",
    "\n",
    "        max_c.grad = None\n",
    "        min_c.grad = None"
   ]
  },
  {
   "cell_type": "code",
   "execution_count": 7,
   "metadata": {},
   "outputs": [],
   "source": [
    "y_ = Box(min_c.detach().numpy(), max_c.detach().numpy())"
   ]
  },
  {
   "cell_type": "code",
   "execution_count": 8,
   "metadata": {},
   "outputs": [
    {
     "data": {
      "text/plain": [
       "(tensor([-0.0050, -0.0050, -0.0017, -0.0050, -0.0050, -0.0033, -0.0021, -0.0050,\n",
       "         -0.0039, -0.0050, -0.0041, -0.0017, -0.0031, -0.0036, -0.0033, -0.0025,\n",
       "         -0.0062, -0.0044, -0.0024, -0.0050, -0.0074, -0.0045, -0.0065, -0.0033,\n",
       "         -0.0050, -0.0065, -0.0080, -0.0043, -0.0055, -0.0067, -0.0077, -0.0088,\n",
       "         -0.0097, -0.0056, -0.0014, -0.0022, -0.0030, -0.0037, -0.0044, -0.0050,\n",
       "         -0.0056, -0.0062, -0.0067, -0.0073, -0.0078, -0.0033, -0.0037, -0.0042,\n",
       "         -0.0046, -0.0050, -0.0004, -0.0008, -0.0011, -0.0015, -0.0018, -0.0071,\n",
       "         -0.0075, -0.0078, -0.0081, -0.0083, -0.0036, -0.0039, -0.0041, -0.0044,\n",
       "         -0.0046, -0.0048, -0.0051, -0.0053, -0.0055, -0.0057, -0.0059, -0.0061,\n",
       "         -0.0013, -0.0065, -0.0067, -0.0018, -0.0020, -0.0072, -0.0023, -0.0075,\n",
       "         -0.0027, -0.0028, -0.0030, -0.0081, -0.0032, -0.0034, -0.0035, -0.0036,\n",
       "         -0.0038, -0.0039, -0.0040, -0.0041, -0.0042, -0.0044, -0.0045, -0.0046,\n",
       "         -0.0047, -0.0048, -0.0049, -0.0050]),\n",
       " tensor([-2.0781e-05, -1.2187e-04, -2.2487e-04, -3.3001e-04, -4.3754e-04,\n",
       "         -5.4721e-04, -6.5903e-04, -7.7347e-04, -8.9029e-04, -1.0097e-03,\n",
       "         -1.1318e-03, -1.2567e-03, -1.3845e-03, -1.5149e-03, -1.6487e-03,\n",
       "         -1.7856e-03, -1.9255e-03, -2.0690e-03, -2.2159e-03, -2.3666e-03,\n",
       "         -2.5208e-03, -2.6789e-03, -2.8413e-03, -3.0077e-03, -3.1786e-03,\n",
       "         -3.3541e-03, -3.5344e-03, -3.7194e-03, -3.9096e-03, -4.1054e-03,\n",
       "         -4.3066e-03, -4.5135e-03, -4.7267e-03, -4.9463e-03, -1.7218e-04,\n",
       "         -4.0535e-04, -6.4568e-04, -8.9363e-04, -1.1497e-03, -1.4141e-03,\n",
       "         -1.6873e-03, -1.9699e-03, -2.2622e-03, -2.5645e-03, -2.8777e-03,\n",
       "         -3.2025e-03, -3.5391e-03, -3.8886e-03, -4.2515e-03, -4.6285e-03,\n",
       "         -2.0542e-05, -4.2871e-04, -8.5382e-04, -1.2973e-03, -1.7598e-03,\n",
       "         -2.2428e-03, -2.7478e-03, -3.2764e-03, -3.8300e-03, -4.4108e-03,\n",
       "         -2.0542e-05, -6.6141e-04, -1.3361e-03, -2.0476e-03, -2.7981e-03,\n",
       "         -3.5918e-03, -4.4322e-03, -3.2333e-04, -1.2703e-03, -2.2784e-03,\n",
       "         -3.3536e-03, -4.5030e-03, -7.3461e-04, -2.0574e-03, -3.4817e-03,\n",
       "         -2.0065e-05, -1.6868e-03, -3.4983e-03, -4.7449e-04, -2.6391e-03,\n",
       "         -1.9827e-05, -2.6515e-03, -5.7534e-04, -3.8433e-03, -2.5196e-03,\n",
       "         -1.6861e-03, -1.4480e-03, -1.9424e-03, -3.3524e-03, -9.2796e-04,\n",
       "         -1.8635e-05, -1.1297e-03, -1.8158e-05, -2.8749e-03, -1.6840e-03,\n",
       "         -1.6489e-05, -1.5297e-05, -3.3467e-03, -9.5749e-06, -4.9982e-03]))"
      ]
     },
     "execution_count": 8,
     "metadata": {},
     "output_type": "execute_result"
    }
   ],
   "source": [
    "box_intersection(x, y_)"
   ]
  },
  {
   "cell_type": "code",
   "execution_count": null,
   "metadata": {},
   "outputs": [],
   "source": []
  }
 ],
 "metadata": {
  "kernelspec": {
   "display_name": "Python 3",
   "language": "python",
   "name": "python3"
  },
  "language_info": {
   "codemirror_mode": {
    "name": "ipython",
    "version": 3
   },
   "file_extension": ".py",
   "mimetype": "text/x-python",
   "name": "python",
   "nbconvert_exporter": "python",
   "pygments_lexer": "ipython3",
   "version": "3.7.9"
  }
 },
 "nbformat": 4,
 "nbformat_minor": 5
}
